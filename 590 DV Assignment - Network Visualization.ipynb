{
 "cells": [
  {
   "cell_type": "markdown",
   "metadata": {},
   "source": [
    "## <center>590 DV - Assignment</center> \n",
    "## <center>Network Visualization</center>\n",
    "### <center>by</center>\n",
    "### <center>Samuel John</center>\n",
    "\n",
    "\n",
    "\n",
    "### Question\n",
    "Construct a graph with the nodes being characters, the links being the movies they appear in together, and when you click a label is updated."
   ]
  },
  {
   "cell_type": "markdown",
   "metadata": {},
   "source": [
    "### Answer\n",
    "<b>Step 1:</b> To construct this graph, we need to first read the films and people json files and obtain a relationship between them."
   ]
  },
  {
   "cell_type": "code",
   "execution_count": 1,
   "metadata": {},
   "outputs": [],
   "source": [
    "import json\n",
    "import bqplot\n",
    "\n",
    "#read films json\n",
    "films = json.load(open(\"shared/sp18-is590dv/data/star_wars/films.json\"))"
   ]
  },
  {
   "cell_type": "markdown",
   "metadata": {},
   "source": [
    "<b>Step 2:</b> Now that we have loaded the content from the films json, let us check the contents and identify the key fields so that we can use these key fields in the next step of the program."
   ]
  },
  {
   "cell_type": "code",
   "execution_count": 2,
   "metadata": {},
   "outputs": [
    {
     "data": {
      "text/plain": [
       "[{'fields': {'starships': [2, 3, 5, 9, 10, 11, 12, 13],\n",
       "   'edited': '2014-12-20T19:49:45.256Z',\n",
       "   'vehicles': [4, 6, 7, 8],\n",
       "   'planets': [1, 2, 3],\n",
       "   'producer': 'Gary Kurtz, Rick McCallum',\n",
       "   'title': 'A New Hope',\n",
       "   'created': '2014-12-10T14:23:31.880Z',\n",
       "   'episode_id': 4,\n",
       "   'director': 'George Lucas',\n",
       "   'release_date': '1977-05-25',\n",
       "   'opening_crawl': \"It is a period of civil war.\\r\\nRebel spaceships, striking\\r\\nfrom a hidden base, have won\\r\\ntheir first victory against\\r\\nthe evil Galactic Empire.\\r\\n\\r\\nDuring the battle, Rebel\\r\\nspies managed to steal secret\\r\\nplans to the Empire's\\r\\nultimate weapon, the DEATH\\r\\nSTAR, an armored space\\r\\nstation with enough power\\r\\nto destroy an entire planet.\\r\\n\\r\\nPursued by the Empire's\\r\\nsinister agents, Princess\\r\\nLeia races home aboard her\\r\\nstarship, custodian of the\\r\\nstolen plans that can save her\\r\\npeople and restore\\r\\nfreedom to the galaxy....\",\n",
       "   'characters': [1,\n",
       "    2,\n",
       "    3,\n",
       "    4,\n",
       "    5,\n",
       "    6,\n",
       "    7,\n",
       "    8,\n",
       "    9,\n",
       "    10,\n",
       "    12,\n",
       "    13,\n",
       "    14,\n",
       "    15,\n",
       "    16,\n",
       "    18,\n",
       "    19,\n",
       "    81],\n",
       "   'species': [1, 2, 3, 4, 5]},\n",
       "  'model': 'resources.film',\n",
       "  'pk': 1},\n",
       " {'fields': {'starships': [3, 10, 11, 12, 15, 17, 21, 22, 23],\n",
       "   'edited': '2014-12-15T13:07:53.386Z',\n",
       "   'vehicles': [8, 14, 16, 18, 19, 20],\n",
       "   'planets': [4, 5, 6, 27],\n",
       "   'producer': 'Gary Kurtz, Rick McCallum',\n",
       "   'title': 'The Empire Strikes Back',\n",
       "   'created': '2014-12-12T11:26:24.656Z',\n",
       "   'episode_id': 5,\n",
       "   'director': 'Irvin Kershner',\n",
       "   'release_date': '1980-05-17',\n",
       "   'opening_crawl': 'It is a dark time for the\\r\\nRebellion. Although the Death\\r\\nStar has been destroyed,\\r\\nImperial troops have driven the\\r\\nRebel forces from their hidden\\r\\nbase and pursued them across\\r\\nthe galaxy.\\r\\n\\r\\nEvading the dreaded Imperial\\r\\nStarfleet, a group of freedom\\r\\nfighters led by Luke Skywalker\\r\\nhas established a new secret\\r\\nbase on the remote ice world\\r\\nof Hoth.\\r\\n\\r\\nThe evil lord Darth Vader,\\r\\nobsessed with finding young\\r\\nSkywalker, has dispatched\\r\\nthousands of remote probes into\\r\\nthe far reaches of space....',\n",
       "   'characters': [1, 2, 3, 4, 5, 10, 13, 14, 18, 20, 21, 22, 23, 24, 25, 26],\n",
       "   'species': [1, 2, 3, 6, 7]},\n",
       "  'model': 'resources.film',\n",
       "  'pk': 2},\n",
       " {'fields': {'starships': [2, 3, 10, 11, 12, 15, 17, 22, 23, 27, 28, 29],\n",
       "   'edited': '2014-12-20T09:48:37.462Z',\n",
       "   'vehicles': [8, 16, 18, 19, 24, 25, 26, 30],\n",
       "   'planets': [1, 5, 7, 8, 9],\n",
       "   'producer': 'Howard G. Kazanjian, George Lucas, Rick McCallum',\n",
       "   'title': 'Return of the Jedi',\n",
       "   'created': '2014-12-18T10:39:33.255Z',\n",
       "   'episode_id': 6,\n",
       "   'director': 'Richard Marquand',\n",
       "   'release_date': '1983-05-25',\n",
       "   'opening_crawl': 'Luke Skywalker has returned to\\r\\nhis home planet of Tatooine in\\r\\nan attempt to rescue his\\r\\nfriend Han Solo from the\\r\\nclutches of the vile gangster\\r\\nJabba the Hutt.\\r\\n\\r\\nLittle does Luke know that the\\r\\nGALACTIC EMPIRE has secretly\\r\\nbegun construction on a new\\r\\narmored space station even\\r\\nmore powerful than the first\\r\\ndreaded Death Star.\\r\\n\\r\\nWhen completed, this ultimate\\r\\nweapon will spell certain doom\\r\\nfor the small band of rebels\\r\\nstruggling to restore freedom\\r\\nto the galaxy...',\n",
       "   'characters': [1,\n",
       "    2,\n",
       "    3,\n",
       "    4,\n",
       "    5,\n",
       "    10,\n",
       "    13,\n",
       "    14,\n",
       "    16,\n",
       "    18,\n",
       "    20,\n",
       "    21,\n",
       "    22,\n",
       "    25,\n",
       "    27,\n",
       "    28,\n",
       "    29,\n",
       "    30,\n",
       "    31,\n",
       "    45],\n",
       "   'species': [1, 2, 3, 5, 6, 8, 9, 10, 15]},\n",
       "  'model': 'resources.film',\n",
       "  'pk': 3},\n",
       " {'fields': {'starships': [31, 32, 39, 40, 41],\n",
       "   'edited': '2014-12-20T10:54:07.216Z',\n",
       "   'vehicles': [33, 34, 35, 36, 37, 38, 42],\n",
       "   'planets': [1, 8, 9],\n",
       "   'producer': 'Rick McCallum',\n",
       "   'title': 'The Phantom Menace',\n",
       "   'created': '2014-12-19T16:52:55.740Z',\n",
       "   'episode_id': 1,\n",
       "   'director': 'George Lucas',\n",
       "   'release_date': '1999-05-19',\n",
       "   'opening_crawl': 'Turmoil has engulfed the\\r\\nGalactic Republic. The taxation\\r\\nof trade routes to outlying star\\r\\nsystems is in dispute.\\r\\n\\r\\nHoping to resolve the matter\\r\\nwith a blockade of deadly\\r\\nbattleships, the greedy Trade\\r\\nFederation has stopped all\\r\\nshipping to the small planet\\r\\nof Naboo.\\r\\n\\r\\nWhile the Congress of the\\r\\nRepublic endlessly debates\\r\\nthis alarming chain of events,\\r\\nthe Supreme Chancellor has\\r\\nsecretly dispatched two Jedi\\r\\nKnights, the guardians of\\r\\npeace and justice in the\\r\\ngalaxy, to settle the conflict....',\n",
       "   'characters': [2,\n",
       "    3,\n",
       "    10,\n",
       "    11,\n",
       "    16,\n",
       "    20,\n",
       "    21,\n",
       "    32,\n",
       "    33,\n",
       "    34,\n",
       "    35,\n",
       "    36,\n",
       "    37,\n",
       "    38,\n",
       "    39,\n",
       "    40,\n",
       "    41,\n",
       "    42,\n",
       "    43,\n",
       "    44,\n",
       "    46,\n",
       "    47,\n",
       "    48,\n",
       "    49,\n",
       "    50,\n",
       "    51,\n",
       "    52,\n",
       "    53,\n",
       "    54,\n",
       "    55,\n",
       "    56,\n",
       "    57,\n",
       "    58,\n",
       "    59],\n",
       "   'species': [1,\n",
       "    2,\n",
       "    6,\n",
       "    11,\n",
       "    12,\n",
       "    13,\n",
       "    14,\n",
       "    15,\n",
       "    16,\n",
       "    17,\n",
       "    18,\n",
       "    19,\n",
       "    20,\n",
       "    21,\n",
       "    22,\n",
       "    23,\n",
       "    24,\n",
       "    25,\n",
       "    26,\n",
       "    27]},\n",
       "  'model': 'resources.film',\n",
       "  'pk': 4},\n",
       " {'fields': {'starships': [21, 32, 39, 43, 47, 48, 49, 52, 58],\n",
       "   'edited': '2014-12-20T20:18:48.516Z',\n",
       "   'vehicles': [4, 44, 45, 46, 50, 51, 53, 54, 55, 56, 57],\n",
       "   'planets': [1, 8, 9, 10, 11],\n",
       "   'producer': 'Rick McCallum',\n",
       "   'title': 'Attack of the Clones',\n",
       "   'created': '2014-12-20T10:57:57.886Z',\n",
       "   'episode_id': 2,\n",
       "   'director': 'George Lucas',\n",
       "   'release_date': '2002-05-16',\n",
       "   'opening_crawl': 'There is unrest in the Galactic\\r\\nSenate. Several thousand solar\\r\\nsystems have declared their\\r\\nintentions to leave the Republic.\\r\\n\\r\\nThis separatist movement,\\r\\nunder the leadership of the\\r\\nmysterious Count Dooku, has\\r\\nmade it difficult for the limited\\r\\nnumber of Jedi Knights to maintain \\r\\npeace and order in the galaxy.\\r\\n\\r\\nSenator Amidala, the former\\r\\nQueen of Naboo, is returning\\r\\nto the Galactic Senate to vote\\r\\non the critical issue of creating\\r\\nan ARMY OF THE REPUBLIC\\r\\nto assist the overwhelmed\\r\\nJedi....',\n",
       "   'characters': [2,\n",
       "    3,\n",
       "    6,\n",
       "    7,\n",
       "    10,\n",
       "    11,\n",
       "    20,\n",
       "    21,\n",
       "    22,\n",
       "    33,\n",
       "    35,\n",
       "    36,\n",
       "    40,\n",
       "    43,\n",
       "    46,\n",
       "    51,\n",
       "    52,\n",
       "    53,\n",
       "    58,\n",
       "    59,\n",
       "    60,\n",
       "    61,\n",
       "    62,\n",
       "    63,\n",
       "    64,\n",
       "    65,\n",
       "    66,\n",
       "    67,\n",
       "    68,\n",
       "    69,\n",
       "    70,\n",
       "    71,\n",
       "    72,\n",
       "    73,\n",
       "    74,\n",
       "    75,\n",
       "    76,\n",
       "    77,\n",
       "    78,\n",
       "    82],\n",
       "   'species': [1, 2, 6, 12, 13, 15, 28, 29, 30, 31, 32, 33, 34, 35]},\n",
       "  'model': 'resources.film',\n",
       "  'pk': 5},\n",
       " {'fields': {'starships': [2, 32, 48, 59, 61, 63, 64, 65, 66, 68, 74, 75],\n",
       "   'edited': '2014-12-20T20:47:52.073Z',\n",
       "   'vehicles': [33, 50, 53, 56, 60, 62, 67, 69, 70, 71, 72, 73, 76],\n",
       "   'planets': [1, 2, 5, 8, 9, 12, 13, 14, 15, 16, 17, 18, 19],\n",
       "   'producer': 'Rick McCallum',\n",
       "   'title': 'Revenge of the Sith',\n",
       "   'created': '2014-12-20T18:49:38.403Z',\n",
       "   'episode_id': 3,\n",
       "   'director': 'George Lucas',\n",
       "   'release_date': '2005-05-19',\n",
       "   'opening_crawl': 'War! The Republic is crumbling\\r\\nunder attacks by the ruthless\\r\\nSith Lord, Count Dooku.\\r\\nThere are heroes on both sides.\\r\\nEvil is everywhere.\\r\\n\\r\\nIn a stunning move, the\\r\\nfiendish droid leader, General\\r\\nGrievous, has swept into the\\r\\nRepublic capital and kidnapped\\r\\nChancellor Palpatine, leader of\\r\\nthe Galactic Senate.\\r\\n\\r\\nAs the Separatist Droid Army\\r\\nattempts to flee the besieged\\r\\ncapital with their valuable\\r\\nhostage, two Jedi Knights lead a\\r\\ndesperate mission to rescue the\\r\\ncaptive Chancellor....',\n",
       "   'characters': [1,\n",
       "    2,\n",
       "    3,\n",
       "    4,\n",
       "    5,\n",
       "    6,\n",
       "    7,\n",
       "    10,\n",
       "    11,\n",
       "    12,\n",
       "    13,\n",
       "    20,\n",
       "    21,\n",
       "    33,\n",
       "    35,\n",
       "    46,\n",
       "    51,\n",
       "    52,\n",
       "    53,\n",
       "    54,\n",
       "    55,\n",
       "    56,\n",
       "    58,\n",
       "    63,\n",
       "    64,\n",
       "    67,\n",
       "    68,\n",
       "    75,\n",
       "    78,\n",
       "    79,\n",
       "    80,\n",
       "    81,\n",
       "    82,\n",
       "    83],\n",
       "   'species': [1,\n",
       "    2,\n",
       "    3,\n",
       "    6,\n",
       "    15,\n",
       "    19,\n",
       "    20,\n",
       "    23,\n",
       "    24,\n",
       "    25,\n",
       "    26,\n",
       "    27,\n",
       "    28,\n",
       "    29,\n",
       "    30,\n",
       "    33,\n",
       "    34,\n",
       "    35,\n",
       "    36,\n",
       "    37]},\n",
       "  'model': 'resources.film',\n",
       "  'pk': 6}]"
      ]
     },
     "execution_count": 2,
     "metadata": {},
     "output_type": "execute_result"
    }
   ],
   "source": [
    "films"
   ]
  },
  {
   "cell_type": "code",
   "execution_count": 3,
   "metadata": {},
   "outputs": [
    {
     "name": "stdout",
     "output_type": "stream",
     "text": [
      "dict_keys(['starships', 'edited', 'vehicles', 'planets', 'producer', 'title', 'created', 'episode_id', 'director', 'release_date', 'opening_crawl', 'characters', 'species'])\n",
      "dict_keys(['starships', 'edited', 'vehicles', 'planets', 'producer', 'title', 'created', 'episode_id', 'director', 'release_date', 'opening_crawl', 'characters', 'species'])\n",
      "dict_keys(['starships', 'edited', 'vehicles', 'planets', 'producer', 'title', 'created', 'episode_id', 'director', 'release_date', 'opening_crawl', 'characters', 'species'])\n",
      "dict_keys(['starships', 'edited', 'vehicles', 'planets', 'producer', 'title', 'created', 'episode_id', 'director', 'release_date', 'opening_crawl', 'characters', 'species'])\n",
      "dict_keys(['starships', 'edited', 'vehicles', 'planets', 'producer', 'title', 'created', 'episode_id', 'director', 'release_date', 'opening_crawl', 'characters', 'species'])\n",
      "dict_keys(['starships', 'edited', 'vehicles', 'planets', 'producer', 'title', 'created', 'episode_id', 'director', 'release_date', 'opening_crawl', 'characters', 'species'])\n"
     ]
    }
   ],
   "source": [
    "for film in films:\n",
    "    print(film[\"fields\"].keys())"
   ]
  },
  {
   "cell_type": "markdown",
   "metadata": {},
   "source": [
    "From the above, we see that Films contains information regarding the various aspects of the Star Wars Universe, for each movie or 'Episode' as it is popularly known as, of the Star Wars Saga. \n",
    "\n",
    "For this program, we need to use the <b>title</b> field in order to obtain the episode name and the <b>characters</b> field in order to get a list of all the characters who appeared in that episode.\n",
    "\n",
    "<b>Step 3:</b> Before moving on, lets first check the type of data in these two fields."
   ]
  },
  {
   "cell_type": "code",
   "execution_count": 30,
   "metadata": {},
   "outputs": [
    {
     "name": "stdout",
     "output_type": "stream",
     "text": [
      "A New Hope\n"
     ]
    }
   ],
   "source": [
    "print(films[0]['fields']['title'])"
   ]
  },
  {
   "cell_type": "code",
   "execution_count": 31,
   "metadata": {},
   "outputs": [
    {
     "name": "stdout",
     "output_type": "stream",
     "text": [
      "[1, 2, 3, 4, 5, 6, 7, 8, 9, 10, 12, 13, 14, 15, 16, 18, 19, 81]\n"
     ]
    }
   ],
   "source": [
    "print(films[0]['fields']['characters'])"
   ]
  },
  {
   "cell_type": "markdown",
   "metadata": {},
   "source": [
    "As seen above, the movie title is in string format as required, however, the characters are listed out using numbers, not names. In order to obtain the names of the characters, we will be reading the people json file and obtaining the names of the corresponding character numbers."
   ]
  },
  {
   "cell_type": "code",
   "execution_count": 4,
   "metadata": {},
   "outputs": [],
   "source": [
    "char_input = json.load(open(\"shared/sp18-is590dv/data/star_wars/people.json\"))\n",
    "\n",
    "characters = {}\n",
    "\n",
    "for character in char_input:\n",
    "    characters[character['pk']] = character['fields']"
   ]
  },
  {
   "cell_type": "code",
   "execution_count": 32,
   "metadata": {},
   "outputs": [
    {
     "name": "stdout",
     "output_type": "stream",
     "text": [
      "A New Hope \n",
      " ['Luke Skywalker', 'C-3PO', 'R2-D2', 'Darth Vader', 'Leia Organa', 'Owen Lars', 'Beru Whitesun lars', 'R5-D4', 'Biggs Darklighter', 'Obi-Wan Kenobi', 'Wilhuff Tarkin', 'Chewbacca', 'Han Solo', 'Greedo', 'Jabba Desilijic Tiure', 'Wedge Antilles', 'Jek Tono Porkins', 'Raymus Antilles'] \n",
      "\n",
      "The Empire Strikes Back \n",
      " ['Luke Skywalker', 'C-3PO', 'R2-D2', 'Darth Vader', 'Leia Organa', 'Obi-Wan Kenobi', 'Chewbacca', 'Han Solo', 'Wedge Antilles', 'Yoda', 'Palpatine', 'Boba Fett', 'IG-88', 'Bossk', 'Lando Calrissian', 'Lobot'] \n",
      "\n",
      "Return of the Jedi \n",
      " ['Luke Skywalker', 'C-3PO', 'R2-D2', 'Darth Vader', 'Leia Organa', 'Obi-Wan Kenobi', 'Chewbacca', 'Han Solo', 'Jabba Desilijic Tiure', 'Wedge Antilles', 'Yoda', 'Palpatine', 'Boba Fett', 'Lando Calrissian', 'Ackbar', 'Mon Mothma', 'Arvel Crynyd', 'Wicket Systri Warrick', 'Nien Nunb', 'Bib Fortuna'] \n",
      "\n",
      "The Phantom Menace \n",
      " ['C-3PO', 'R2-D2', 'Obi-Wan Kenobi', 'Anakin Skywalker', 'Jabba Desilijic Tiure', 'Yoda', 'Palpatine', 'Qui-Gon Jinn', 'Nute Gunray', 'Finis Valorum', 'Padmé Amidala', 'Jar Jar Binks', 'Roos Tarpals', 'Rugor Nass', 'Ric Olié', 'Watto', 'Sebulba', 'Quarsh Panaka', 'Shmi Skywalker', 'Darth Maul', 'Ayla Secura', 'Ratts Tyerel', 'Dud Bolt', 'Gasgano', 'Ben Quadinaros', 'Mace Windu', 'Ki-Adi-Mundi', 'Kit Fisto', 'Eeth Koth', 'Adi Gallia', 'Saesee Tiin', 'Yarael Poof', 'Plo Koon', 'Mas Amedda'] \n",
      "\n",
      "Attack of the Clones \n",
      " ['C-3PO', 'R2-D2', 'Owen Lars', 'Beru Whitesun lars', 'Obi-Wan Kenobi', 'Anakin Skywalker', 'Yoda', 'Palpatine', 'Boba Fett', 'Nute Gunray', 'Padmé Amidala', 'Jar Jar Binks', 'Watto', 'Shmi Skywalker', 'Ayla Secura', 'Mace Windu', 'Ki-Adi-Mundi', 'Kit Fisto', 'Plo Koon', 'Mas Amedda', 'Gregar Typho', 'Cordé', 'Cliegg Lars', 'Poggle the Lesser', 'Luminara Unduli', 'Barriss Offee', 'Dormé', 'Dooku', 'Bail Prestor Organa', 'Jango Fett', 'Zam Wesell', 'Dexter Jettster', 'Lama Su', 'Taun We', 'Jocasta Nu', 'R4-P17', 'Wat Tambor', 'San Hill', 'Shaak Ti', 'Sly Moore'] \n",
      "\n",
      "Revenge of the Sith \n",
      " ['Luke Skywalker', 'C-3PO', 'R2-D2', 'Darth Vader', 'Leia Organa', 'Owen Lars', 'Beru Whitesun lars', 'Obi-Wan Kenobi', 'Anakin Skywalker', 'Wilhuff Tarkin', 'Chewbacca', 'Yoda', 'Palpatine', 'Nute Gunray', 'Padmé Amidala', 'Ayla Secura', 'Mace Windu', 'Ki-Adi-Mundi', 'Kit Fisto', 'Eeth Koth', 'Adi Gallia', 'Saesee Tiin', 'Plo Koon', 'Poggle the Lesser', 'Luminara Unduli', 'Dooku', 'Bail Prestor Organa', 'R4-P17', 'Shaak Ti', 'Grievous', 'Tarfful', 'Raymus Antilles', 'Sly Moore', 'Tion Medon'] \n",
      "\n"
     ]
    }
   ],
   "source": [
    "movies = {}\n",
    "\n",
    "for film in films:\n",
    "    movies[film[\"fields\"][\"title\"]] = [characters[character][\"name\"] for character in film[\"fields\"][\"characters\"]]\n",
    "    \n",
    "for i in movies:\n",
    "    print (i, '\\n', movies[i],'\\n')"
   ]
  },
  {
   "cell_type": "markdown",
   "metadata": {},
   "source": [
    "<b>Step 4:</b> Now that we have a list of the movies and all the characters who appeared in those movies, we can use our specified set of characters to see which of those movies they appeared in. \n",
    "\n",
    "This data will then be used to create the node data."
   ]
  },
  {
   "cell_type": "code",
   "execution_count": 13,
   "metadata": {},
   "outputs": [
    {
     "name": "stdout",
     "output_type": "stream",
     "text": [
      "{'label': 'Boba Fett', 'media': ['The Empire Strikes Back', 'Return of the Jedi', 'Attack of the Clones']} \n",
      "\n",
      "{'label': 'Yoda', 'media': ['The Empire Strikes Back', 'Return of the Jedi', 'The Phantom Menace', 'Attack of the Clones', 'Revenge of the Sith']} \n",
      "\n",
      "{'label': 'Jabba Desilijic Tiure', 'media': ['A New Hope', 'Return of the Jedi', 'The Phantom Menace']} \n",
      "\n",
      "{'label': 'Darth Vader', 'media': ['A New Hope', 'The Empire Strikes Back', 'Return of the Jedi', 'Revenge of the Sith']} \n",
      "\n",
      "{'label': 'Obi-Wan Kenobi', 'media': ['A New Hope', 'The Empire Strikes Back', 'Return of the Jedi', 'The Phantom Menace', 'Attack of the Clones', 'Revenge of the Sith']} \n",
      "\n",
      "{'label': 'Beru Whitesun lars', 'media': ['A New Hope', 'Attack of the Clones', 'Revenge of the Sith']} \n",
      "\n",
      "{'label': 'Mon Mothma', 'media': ['Return of the Jedi']} \n",
      "\n"
     ]
    }
   ],
   "source": [
    "chars = [\"Boba Fett\", \"Yoda\", \"Jabba Desilijic Tiure\", \"Darth Vader\", \"Obi-Wan Kenobi\",\n",
    "         \"Beru Whitesun lars\", \"Mon Mothma\"]\n",
    "\n",
    "node_data = []\n",
    "char_data = {}\n",
    "for char_name in chars:\n",
    "    for movie_name in movies:\n",
    "        if char_name in movies[movie_name]:\n",
    "            if char_name in char_data:\n",
    "                char_data[char_name].append(movie_name)\n",
    "            else:\n",
    "                char_data[char_name] = [movie_name]\n",
    "\n",
    "for i in char_data:\n",
    "    node_data.append({\"label\":i, \"media\": char_data[i]})\n",
    "                \n",
    "for i in node_data:\n",
    "    print (i,'\\n')"
   ]
  },
  {
   "cell_type": "markdown",
   "metadata": {},
   "source": [
    "<b>Step 5:</b> Next, we have to create some kind of relationship between these characters. As per the requirement, we will create a link between a character and the other characters who appeared in the movies that they were part of.\n",
    "\n",
    "We will then use that relationship as the link data."
   ]
  },
  {
   "cell_type": "code",
   "execution_count": 45,
   "metadata": {},
   "outputs": [],
   "source": [
    "link_data = []\n",
    "for name1 in chars:\n",
    "    for movie_name in movies:\n",
    "        if name1 in movies[movie_name]:\n",
    "            for name2 in chars:\n",
    "                if name1 == name2:\n",
    "                    continue\n",
    "                else:\n",
    "                    if name2 in movies[movie_name]:\n",
    "                        temp = {'source': chars.index(name1), 'target': chars.index(name2)}\n",
    "                        if temp not in link_data:\n",
    "                            link_data.append(temp)\n",
    "\n",
    "tooltip = bqplot.Tooltip(fields = [\"label\", \"media\"])\n",
    "graph = bqplot.Graph(node_data=node_data, link_data=link_data, tooltip = tooltip)\n",
    "\n",
    "fig = bqplot.Figure(marks = [graph]) "
   ]
  },
  {
   "cell_type": "markdown",
   "metadata": {},
   "source": [
    "In the cells above, we have created the requried node data and link data lists that are required to create the graph. We have also created a tooltip that shows the label and media information about a character which will be displayed during a mouse hover over a character name. \n",
    "\n",
    "Before displaying the graph though, we will be creating a label feature where a label is printed when a character name is clicked.\n",
    "\n",
    "<b>Step 5:</b> Create a function to print a label when a character name in the graph is selected. For this assignment, I have chosen the label to include the name of the selected character, the movies the appeared in and the names of the characters who appeared in those movies along with them. "
   ]
  },
  {
   "cell_type": "code",
   "execution_count": 46,
   "metadata": {},
   "outputs": [
    {
     "data": {
      "application/vnd.jupyter.widget-view+json": {
       "model_id": "c5134a4879e64613a3aa6dd99e7f4ff6",
       "version_major": 2,
       "version_minor": 0
      },
      "text/plain": [
       "Figure(fig_margin={'top': 60, 'bottom': 60, 'left': 60, 'right': 60}, layout=Layout(min_width='125px'), marks=…"
      ]
     },
     "metadata": {},
     "output_type": "display_data"
    },
    {
     "name": "stdout",
     "output_type": "stream",
     "text": [
      "Mon Mothma appeared in movies Return of the Jedi along with characters Boba Fett, Yoda, Jabba Desilijic Tiure, Darth Vader, Obi-Wan Kenobi \n",
      "\n"
     ]
    }
   ],
   "source": [
    "def print_label(obj, element):\n",
    "    c_name = str(element['data']['label'])\n",
    "    m_name = (\", \".join(element['data']['media']))\n",
    "    c2_names = []\n",
    "    for i in link_data:\n",
    "        if i['source'] == chars.index(c_name):\n",
    "            c2_names.append(chars[i['target']])\n",
    "    print(c_name, \"appeared in movies\", m_name, \"along with characters\", (\", \".join(c2_names)), \"\\n\")\n",
    "\n",
    "\n",
    "graph.on_element_click(print_label)\n",
    "\n",
    "display(fig)   "
   ]
  },
  {
   "cell_type": "markdown",
   "metadata": {},
   "source": [
    "<b>Conclusion:</b>\n",
    "\n",
    "From this assignment, we learned how to visualize a network using a source and a target to create a graph that depicts the relationship between variables in a structure. We also learned how to view the details of those nodes and print details regarding the nodes using tooltips and labels."
   ]
  },
  {
   "cell_type": "code",
   "execution_count": null,
   "metadata": {},
   "outputs": [],
   "source": []
  }
 ],
 "metadata": {
  "kernelspec": {
   "display_name": "Environment (conda_is590dv-default)",
   "language": "python",
   "name": "conda_is590dv-default"
  },
  "language_info": {
   "codemirror_mode": {
    "name": "ipython",
    "version": 3
   },
   "file_extension": ".py",
   "mimetype": "text/x-python",
   "name": "python",
   "nbconvert_exporter": "python",
   "pygments_lexer": "ipython3",
   "version": "3.6.6"
  }
 },
 "nbformat": 4,
 "nbformat_minor": 2
}
